{
 "cells": [
  {
   "cell_type": "code",
   "execution_count": 2,
   "id": "6dac11e6",
   "metadata": {},
   "outputs": [
    {
     "name": "stdout",
     "output_type": "stream",
     "text": [
      "Frame extraction completed.\n"
     ]
    }
   ],
   "source": [
    "import cv2\n",
    "import os\n",
    "\n",
    "\n",
    "cap = cv2.VideoCapture(\"C:/Users/Srinu's Laptop/Videos/WhatsApp Video 2024-08-04 at 19.06.19_40c1fba3.mp4\")\n",
    "\n",
    "\n",
    "if not cap.isOpened():\n",
    "    print(\"Error: Could not open video.\")\n",
    "    exit()\n",
    "\n",
    "\n",
    "frame_number = 0\n",
    "output_folder = 'extracted_frames'\n",
    "os.makedirs(output_folder, exist_ok=True)\n",
    "\n",
    "while cap.isOpened():\n",
    "    ret, frame = cap.read()\n",
    "    if not ret:\n",
    "        break\n",
    "\n",
    "    \n",
    "    frame_filename = os.path.join(output_folder, f'frame_{frame_number:04d}.jpg')\n",
    "    cv2.imwrite(frame_filename, frame)\n",
    "    frame_number += 1\n",
    "\n",
    "cap.release()\n",
    "cv2.destroyAllWindows()\n",
    "\n",
    "print(\"Frame extraction completed.\")"
   ]
  },
  {
   "cell_type": "code",
   "execution_count": 5,
   "id": "496f4103",
   "metadata": {},
   "outputs": [
    {
     "name": "stdout",
     "output_type": "stream",
     "text": [
      "Spatio-temporal segmentation completed.\n"
     ]
    }
   ],
   "source": [
    "def segment_frame(frame):\n",
    "    \n",
    "    gray = cv2.cvtColor(frame, cv2.COLOR_BGR2GRAY)\n",
    "    _, segmented = cv2.threshold(gray, 128, 255, cv2.THRESH_BINARY)\n",
    "    return segmented\n",
    "\n",
    "segmentation_folder = \"C:/Users/Srinu's Laptop/OneDrive - vit.ac.in/Desktop/segmented\"\n",
    "os.makedirs(segmentation_folder, exist_ok=True)\n",
    "\n",
    "cap = cv2.VideoCapture(\"C:/Users/Srinu's Laptop/Videos/WhatsApp Video 2024-08-04 at 19.06.19_40c1fba3.mp4\")\n",
    "frame_number = 0\n",
    "\n",
    "while cap.isOpened():\n",
    "    ret, frame = cap.read()\n",
    "    if not ret:\n",
    "        break\n",
    "\n",
    "    segmented_frame = segment_frame(frame)\n",
    "    segmentation_filename = os.path.join(segmentation_folder, f'segmented_{frame_number:04d}.jpg')\n",
    "    cv2.imwrite(segmentation_filename, segmented_frame)\n",
    "    frame_number += 1\n",
    "\n",
    "cap.release()\n",
    "cv2.destroyAllWindows()\n",
    "\n",
    "print(\"Spatio-temporal segmentation completed.\")"
   ]
  },
  {
   "cell_type": "code",
   "execution_count": null,
   "id": "41097924",
   "metadata": {},
   "outputs": [],
   "source": []
  }
 ],
 "metadata": {
  "kernelspec": {
   "display_name": "Python 3 (ipykernel)",
   "language": "python",
   "name": "python3"
  },
  "language_info": {
   "codemirror_mode": {
    "name": "ipython",
    "version": 3
   },
   "file_extension": ".py",
   "mimetype": "text/x-python",
   "name": "python",
   "nbconvert_exporter": "python",
   "pygments_lexer": "ipython3",
   "version": "3.9.12"
  }
 },
 "nbformat": 4,
 "nbformat_minor": 5
}
